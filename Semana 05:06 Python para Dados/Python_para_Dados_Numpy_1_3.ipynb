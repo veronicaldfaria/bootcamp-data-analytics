{
  "nbformat": 4,
  "nbformat_minor": 0,
  "metadata": {
    "colab": {
      "provenance": [],
      "include_colab_link": true
    },
    "kernelspec": {
      "name": "python3",
      "display_name": "Python 3"
    },
    "language_info": {
      "name": "python"
    }
  },
  "cells": [
    {
      "cell_type": "markdown",
      "metadata": {
        "id": "view-in-github",
        "colab_type": "text"
      },
      "source": [
        "<a href=\"https://colab.research.google.com/github/veronicaldfaria/bootcamp-data-analytics/blob/main/Python_para_Dados_Numpy_1_3.ipynb\" target=\"_parent\"><img src=\"https://colab.research.google.com/assets/colab-badge.svg\" alt=\"Open In Colab\"/></a>"
      ]
    },
    {
      "cell_type": "code",
      "execution_count": 1,
      "metadata": {
        "id": "y933Qf_oW3UK"
      },
      "outputs": [],
      "source": [
        "import numpy as np"
      ]
    },
    {
      "cell_type": "code",
      "source": [
        "acidentes = np.array([[1, 3, 2],\n",
        "                    [0, 1, 0],\n",
        "                    [2, 1, 4],\n",
        "                    [0, 0, 0],\n",
        "                    [1, 1, 0]])"
      ],
      "metadata": {
        "id": "UCFoCmw6XS6O"
      },
      "execution_count": 2,
      "outputs": []
    },
    {
      "cell_type": "code",
      "source": [
        "acidentes"
      ],
      "metadata": {
        "colab": {
          "base_uri": "https://localhost:8080/"
        },
        "id": "AJ5uIgKAgVFI",
        "outputId": "942e2a76-846f-49f0-e0f0-d116b68a17db"
      },
      "execution_count": 3,
      "outputs": [
        {
          "output_type": "execute_result",
          "data": {
            "text/plain": [
              "array([[1, 3, 2],\n",
              "       [0, 1, 0],\n",
              "       [2, 1, 4],\n",
              "       [0, 0, 0],\n",
              "       [1, 1, 0]])"
            ]
          },
          "metadata": {},
          "execution_count": 3
        }
      ]
    },
    {
      "cell_type": "markdown",
      "source": [
        "### 1. O cliente que teve acidente abaixo da média nos últimos 2 anos, ganhará um desconto no seu seguro. Identifique-os.\n"
      ],
      "metadata": {
        "id": "-kp7eaKRggd8"
      }
    },
    {
      "cell_type": "code",
      "source": [
        "ultimos_2_anos = acidentes[:, 1:]\n",
        "media_acidentes = np.mean(ultimos_2_anos)\n",
        "clientes_desconto = np.where(np.mean(ultimos_2_anos, axis=1) < media_acidentes)[0]\n",
        "clientes_desconto"
      ],
      "metadata": {
        "id": "keqUiiYj2Ccj",
        "colab": {
          "base_uri": "https://localhost:8080/"
        },
        "outputId": "23cdc795-5524-4631-98ad-81b41c2436f4"
      },
      "execution_count": 6,
      "outputs": [
        {
          "output_type": "execute_result",
          "data": {
            "text/plain": [
              "array([1, 3, 4])"
            ]
          },
          "metadata": {},
          "execution_count": 6
        }
      ]
    },
    {
      "cell_type": "markdown",
      "source": [
        "### 2. Qual cliente teve pelo menos 2 anos sem cometer acidentes?"
      ],
      "metadata": {
        "id": "hssvZjW4hryJ"
      }
    },
    {
      "cell_type": "code",
      "source": [
        "anos_sem_acidentes = np.sum(acidentes == 0, axis=1)\n",
        "clientes_sem_acidentes = np.where(anos_sem_acidentes >= 2)[0]\n",
        "clientes_sem_acidentes"
      ],
      "metadata": {
        "id": "uAbP-BaznHbG",
        "colab": {
          "base_uri": "https://localhost:8080/"
        },
        "outputId": "a91ae576-afaa-41c9-b08e-39b2d169d5ed"
      },
      "execution_count": 8,
      "outputs": [
        {
          "output_type": "execute_result",
          "data": {
            "text/plain": [
              "array([1, 3])"
            ]
          },
          "metadata": {},
          "execution_count": 8
        }
      ]
    },
    {
      "cell_type": "markdown",
      "source": [
        "### 3. Uma professora quer que seus alunos apliquem a função (3x + 2y + x*y) em um conjunto de dados. Ela dá dois arrays aos estudantes e pede que seja feita essa operação.\n"
      ],
      "metadata": {
        "id": "A1YunPlfnIwj"
      }
    },
    {
      "cell_type": "code",
      "source": [
        "x = np.array([1, 2, 3, 4, 5])\n",
        "y = np.array([6, 7, 8, 9, 10])\n",
        "resultado = 3*x + 2*y + x*y\n",
        "resultado"
      ],
      "metadata": {
        "id": "g1S3HA7X2EtH",
        "colab": {
          "base_uri": "https://localhost:8080/"
        },
        "outputId": "11344cf7-dfb4-4da4-8632-6a3be3fc2a92"
      },
      "execution_count": 10,
      "outputs": [
        {
          "output_type": "execute_result",
          "data": {
            "text/plain": [
              "array([21, 34, 49, 66, 85])"
            ]
          },
          "metadata": {},
          "execution_count": 10
        }
      ]
    },
    {
      "cell_type": "markdown",
      "source": [
        "### 4. A mesma professora percebeu que houve um erro em todas as provas dos estudantes e esqueceu de anotar a nota de trabalhos apresentados durante o semestre. Já que foi feito em grupo ela vai adicionar a mesma nota para todos os estudantes. No array cada estudante representa uma linha e cada coluna uma prova. Adicione para cada prova de cada estudante os valores: 1, 2, 1."
      ],
      "metadata": {
        "id": "BJGzageWp-XC"
      }
    },
    {
      "cell_type": "code",
      "source": [
        "notas_provas = np.array([[7, 8, 9],\n",
        "                         [6, 7, 8],\n",
        "                         [8, 9, 10],\n",
        "                         [7, 6, 7],\n",
        "                         [5, 6, 7]])\n",
        "notas_trabalhos = np.array([1, 2, 1])\n",
        "notas_finais = notas_provas + notas_trabalhos\n",
        "notas_finais"
      ],
      "metadata": {
        "id": "8mf-__Tc2GBO",
        "colab": {
          "base_uri": "https://localhost:8080/"
        },
        "outputId": "6ab578c0-2677-4015-9a1d-4ba5dc68c186"
      },
      "execution_count": 12,
      "outputs": [
        {
          "output_type": "execute_result",
          "data": {
            "text/plain": [
              "array([[ 8, 10, 10],\n",
              "       [ 7,  9,  9],\n",
              "       [ 9, 11, 11],\n",
              "       [ 8,  8,  8],\n",
              "       [ 6,  8,  8]])"
            ]
          },
          "metadata": {},
          "execution_count": 12
        }
      ]
    }
  ]
}